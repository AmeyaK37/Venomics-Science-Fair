{
  "cells": [
    {
      "cell_type": "markdown",
      "metadata": {
        "id": "Az6bOB46-FRc"
      },
      "source": [
        "# Machine Learning Application to Venomics"
      ]
    },
    {
      "cell_type": "markdown",
      "source": [
        "# Data Preprocessing"
      ],
      "metadata": {
        "id": "bfpbHnv1ijdP"
      }
    },
    {
      "cell_type": "code",
      "execution_count": null,
      "metadata": {
        "colab": {
          "base_uri": "https://localhost:8080/"
        },
        "id": "8yNXuenZXv6y",
        "outputId": "3e9ee160-d623-4582-c065-9cdf73f515b6"
      },
      "outputs": [
        {
          "output_type": "stream",
          "name": "stdout",
          "text": [
            "Colab only includes TensorFlow 2.x; %tensorflow_version has no effect.\n"
          ]
        }
      ],
      "source": [
        "%tensorflow_version 2.x"
      ]
    },
    {
      "cell_type": "code",
      "execution_count": 1,
      "metadata": {
        "colab": {
          "base_uri": "https://localhost:8080/"
        },
        "id": "3C9upR9dmwgD",
        "outputId": "8f42285b-ce14-4bf5-f7be-6722ab04c073"
      },
      "outputs": [
        {
          "output_type": "stream",
          "name": "stdout",
          "text": [
            "Importing libraries...\n",
            "Libraries imported!\n"
          ]
        }
      ],
      "source": [
        "print(\"Importing libraries...\")\n",
        "\n",
        "import tensorflow as tf\n",
        "import keras\n",
        "from keras.models import Sequential\n",
        "from keras.layers import Dense, Dropout, Flatten, Embedding\n",
        "from keras.layers import Conv2D, MaxPooling2D, Conv1D, MaxPooling1D\n",
        "from keras.preprocessing import image\n",
        "from keras.utils import pad_sequences\n",
        "from keras.utils import to_categorical\n",
        "from sklearn.metrics import confusion_matrix, multilabel_confusion_matrix, ConfusionMatrixDisplay, hamming_loss, classification_report\n",
        "import numpy as np\n",
        "from numpy import savetxt\n",
        "import pandas as pd\n",
        "import matplotlib.pyplot as plt\n",
        "from matplotlib.axis import Axis\n",
        "from sklearn.model_selection import train_test_split\n",
        "from tqdm import tqdm\n",
        "from keras.layers import BatchNormalization\n",
        "import sklearn.metrics as skm\n",
        "\n",
        "\n",
        "print(\"Libraries imported!\")"
      ]
    },
    {
      "cell_type": "code",
      "execution_count": 2,
      "metadata": {
        "colab": {
          "base_uri": "https://localhost:8080/"
        },
        "id": "hCA-3IyjGIU5",
        "outputId": "27442dcf-045b-4804-b9ff-19e26c10fe20"
      },
      "outputs": [
        {
          "output_type": "stream",
          "name": "stdout",
          "text": [
            "Mounted at /content/drive\n"
          ]
        }
      ],
      "source": [
        "# Mount Google Drive\n",
        "from google.colab import drive\n",
        "drive.mount('/content/drive')"
      ]
    },
    {
      "cell_type": "code",
      "execution_count": 3,
      "metadata": {
        "id": "WUbp57ukIQgx"
      },
      "outputs": [],
      "source": [
        "# Import dataset from Google Drive\n",
        "\n",
        "# For reference, dataset can be found here: https://docs.google.com/spreadsheets/d/1MUG-_dfuUM8e-d6UD7SRk8XCUjNhcx2Z/edit?usp=sharing&ouid=102765027867641799867&rtpof=true&sd=true\n",
        "\n",
        "path='/content/drive/My Drive/new_new_venomics_dataset.xlsx'\n",
        "df = pd.read_excel(path)\n",
        "df = df.drop([\"Molecular Function\", 'Disulfide Bond'], axis=1)"
      ]
    },
    {
      "cell_type": "code",
      "execution_count": 4,
      "metadata": {
        "id": "tQKDqhSd8L7L"
      },
      "outputs": [],
      "source": [
        "# Creating the amino acid encoding dictionary and encoding function\n",
        "\n",
        "codes = ['A', 'C', 'D', 'E', 'F', 'G', 'H', 'I', 'K', 'L',\n",
        "         'M', 'N', 'P', 'Q', 'R', 'S', 'T', 'V', 'W', 'Y']\n",
        "\n",
        "def create_dict(codes):\n",
        "  char_dict = {}\n",
        "  for index, val in enumerate(codes):\n",
        "    char_dict[val] = index+1\n",
        "\n",
        "  return char_dict\n",
        "\n",
        "char_dict = create_dict(codes)\n",
        "\n",
        "def integer_encoding(data):\n",
        "  encode_list = []\n",
        "  for row in data['Sequence'].values:\n",
        "    row_encode = []\n",
        "    for code in row:\n",
        "      row_encode.append(char_dict.get(code, 0))\n",
        "    encode_list.append(np.array(row_encode))\n",
        "\n",
        "  return encode_list\n",
        "\n",
        "def test_encode(sequ):\n",
        "  ret_list = []\n",
        "  encoded_list= []\n",
        "  for code in sequ:\n",
        "    encoded_list.append(char_dict.get(code, 0))\n",
        "  ret_list.append(encoded_list)\n",
        "  ret_list = pad_sequences(ret_list, maxlen=max_length, padding='post', truncating='post')\n",
        "  return ret_list;"
      ]
    },
    {
      "cell_type": "code",
      "execution_count": 5,
      "metadata": {
        "id": "xf8H3lMqK3Oa"
      },
      "outputs": [],
      "source": [
        "# Padding amino acid sequences to 600 character length / truncating at 600\n",
        "\n",
        "df_encode = integer_encoding(df);\n",
        "max_length = 600\n",
        "df_pad = pad_sequences(df_encode, maxlen=max_length, padding='post', truncating='post')\n"
      ]
    },
    {
      "cell_type": "code",
      "execution_count": 6,
      "metadata": {
        "id": "i8vh8-EAscuk"
      },
      "outputs": [],
      "source": [
        "# Dropping original sequence column and replacing with padded sequences\n",
        "# Converting all columns to float32 to be used in neural network\n",
        "\n",
        "df = df.drop(['Sequence', 'GO:0005516.1'], axis=1)\n",
        "df = df.astype(np.float32)\n",
        "df_pad = pd.DataFrame(df_pad)\n",
        "result = pd.concat([df_pad, df], axis=1)"
      ]
    },
    {
      "cell_type": "code",
      "execution_count": 7,
      "metadata": {
        "id": "uDsgAKAekNsf"
      },
      "outputs": [],
      "source": [
        "# Split dataset into X(amino acid sequences) and Y(molecular function categories)\n",
        "\n",
        "x = result.drop(['GO:0090729', 'GO:0005179', 'GO:0016829',\n",
        "       'GO:0046872', 'GO:0008081', 'GO:0004867', 'GO:0099106', 'GO:0015459',\n",
        "       'GO:0004252', 'GO:0005246', 'GO:0004623', 'GO:0005509', 'GO:0008200',\n",
        "       'GO:0017080', 'GO:0019834', 'GO:0008270', 'GO:0030550', 'GO:0004222',\n",
        "       'GO:0052740', 'GO:0052739', 'GO:0008970', 'GO:0050025', 'GO:0050029',\n",
        "       'GO:0106329', 'GO:0008191', 'GO:0004620', 'GO:0008233', 'GO:0016504',\n",
        "       'GO:0060422', 'GO:0000166', 'GO:0106411', 'GO:0000287', 'GO:0008237',\n",
        "       'GO:0005102', 'GO:0005216', 'GO:0008201', 'GO:0008236', 'GO:0008289',\n",
        "       'GO:0019870', 'GO:0019871', 'GO:0004465', 'GO:0016491', 'GO:0042802',\n",
        "       'GO:0047498', 'GO:0048018', 'GO:0001515', 'GO:0001716', 'GO:0042803',\n",
        "       'GO:0003677', 'GO:0050660', 'GO:0003990', 'GO:0003993', 'GO:0004175',\n",
        "       'GO:0004177', 'GO:0004415', 'GO:0008239', 'GO:0004556', 'GO:0004860',\n",
        "       'GO:0004866', 'GO:0004869', 'GO:0005154', 'GO:0005184', 'GO:0005185',\n",
        "       'GO:0005507', 'GO:0005516', 'GO:0005520', 'GO:0005534', 'GO:0030395',\n",
        "       'GO:0033296', 'GO:0008061', 'GO:0008083', 'GO:0016603', 'GO:0016787',\n",
        "       'GO:0019855', 'GO:0003676', 'GO:0016853', 'GO:0017081', 'GO:0044325',\n",
        "       'GO:0030246', 'GO:0030414', 'GO:0033906', 'GO:0043262', 'GO:0048019',\n",
        "       'GO:0070320', 'GO:0080030', 'GO:0140628'], axis=1)\n",
        "\n",
        "y = df.drop(['Length','Mass'], axis=1)"
      ]
    },
    {
      "cell_type": "markdown",
      "source": [
        "# Model Building"
      ],
      "metadata": {
        "id": "oIdhK5s2iwQz"
      }
    },
    {
      "cell_type": "code",
      "execution_count": 8,
      "metadata": {
        "id": "AjdgGdduscmO"
      },
      "outputs": [],
      "source": [
        "# X Y traing/test split\n",
        "x_train, x_test, y_train, y_test = train_test_split(x.drop(['Length', 'Mass'], axis=1), y, random_state=10, test_size=0.25)"
      ]
    },
    {
      "cell_type": "code",
      "execution_count": 9,
      "metadata": {
        "id": "uJGmCcOEsbgq"
      },
      "outputs": [],
      "source": [
        "# Model architecture construction\n",
        "model = Sequential()\n",
        "\n",
        "model.add(Embedding(10000, 32, input_length=600))\n",
        "model.add(Flatten())\n",
        "model.add(Dense(256, activation='relu'))\n",
        "model.add(Dropout(0.6))\n",
        "model.add(Dense(128, activation='relu'))\n",
        "model.add(Dropout(0.6))\n",
        "model.add(Dense(64, activation='relu'))\n",
        "model.add(Dropout(0.6))\n",
        "model.add(Dense(86, activation='sigmoid'))\n"
      ]
    },
    {
      "cell_type": "code",
      "execution_count": null,
      "metadata": {
        "id": "bwR4A_Qsnmzg"
      },
      "outputs": [],
      "source": [
        "# Compile model\n",
        "model.compile(optimizer='adam', loss='binary_crossentropy', metrics=['accuracy'])"
      ]
    },
    {
      "cell_type": "code",
      "execution_count": null,
      "metadata": {
        "id": "T90Ig5LAnmwY",
        "colab": {
          "base_uri": "https://localhost:8080/"
        },
        "outputId": "b61f9dce-d2a3-4faa-d5c7-0862becd58c2"
      },
      "outputs": [
        {
          "output_type": "stream",
          "name": "stdout",
          "text": [
            "Epoch 1/100\n",
            "400/400 [==============================] - 6s 9ms/step - loss: 0.1290 - accuracy: 0.7450 - val_loss: 0.0527 - val_accuracy: 0.9000\n",
            "Epoch 2/100\n",
            "400/400 [==============================] - 3s 7ms/step - loss: 0.0600 - accuracy: 0.9048 - val_loss: 0.0504 - val_accuracy: 0.9000\n",
            "Epoch 3/100\n",
            "400/400 [==============================] - 2s 6ms/step - loss: 0.0532 - accuracy: 0.8882 - val_loss: 0.0431 - val_accuracy: 0.8690\n",
            "Epoch 4/100\n",
            "400/400 [==============================] - 2s 6ms/step - loss: 0.0469 - accuracy: 0.8605 - val_loss: 0.0384 - val_accuracy: 0.8520\n",
            "Epoch 5/100\n",
            "400/400 [==============================] - 2s 6ms/step - loss: 0.0426 - accuracy: 0.8496 - val_loss: 0.0373 - val_accuracy: 0.8253\n",
            "Epoch 6/100\n",
            "400/400 [==============================] - 3s 8ms/step - loss: 0.0399 - accuracy: 0.8382 - val_loss: 0.0361 - val_accuracy: 0.8314\n",
            "Epoch 7/100\n",
            "400/400 [==============================] - 3s 7ms/step - loss: 0.0381 - accuracy: 0.8398 - val_loss: 0.0357 - val_accuracy: 0.8295\n",
            "Epoch 8/100\n",
            "400/400 [==============================] - 2s 6ms/step - loss: 0.0362 - accuracy: 0.8354 - val_loss: 0.0336 - val_accuracy: 0.8502\n",
            "Epoch 9/100\n",
            "400/400 [==============================] - 2s 6ms/step - loss: 0.0347 - accuracy: 0.8354 - val_loss: 0.0327 - val_accuracy: 0.8337\n",
            "Epoch 10/100\n",
            "400/400 [==============================] - 3s 7ms/step - loss: 0.0335 - accuracy: 0.8326 - val_loss: 0.0325 - val_accuracy: 0.8271\n",
            "Epoch 11/100\n",
            "400/400 [==============================] - 3s 8ms/step - loss: 0.0329 - accuracy: 0.8341 - val_loss: 0.0311 - val_accuracy: 0.8384\n",
            "Epoch 12/100\n",
            "400/400 [==============================] - 3s 7ms/step - loss: 0.0318 - accuracy: 0.8282 - val_loss: 0.0309 - val_accuracy: 0.8300\n",
            "Epoch 13/100\n",
            "400/400 [==============================] - 3s 8ms/step - loss: 0.0304 - accuracy: 0.8271 - val_loss: 0.0301 - val_accuracy: 0.8253\n",
            "Epoch 14/100\n",
            "400/400 [==============================] - 3s 7ms/step - loss: 0.0296 - accuracy: 0.8246 - val_loss: 0.0285 - val_accuracy: 0.8502\n",
            "Epoch 15/100\n",
            "400/400 [==============================] - 3s 6ms/step - loss: 0.0283 - accuracy: 0.8273 - val_loss: 0.0285 - val_accuracy: 0.8492\n",
            "Epoch 16/100\n",
            "400/400 [==============================] - 3s 8ms/step - loss: 0.0276 - accuracy: 0.8276 - val_loss: 0.0290 - val_accuracy: 0.8192\n",
            "Epoch 17/100\n",
            "400/400 [==============================] - 3s 7ms/step - loss: 0.0268 - accuracy: 0.8241 - val_loss: 0.0287 - val_accuracy: 0.8342\n",
            "Epoch 18/100\n",
            "400/400 [==============================] - 2s 6ms/step - loss: 0.0264 - accuracy: 0.8258 - val_loss: 0.0276 - val_accuracy: 0.8398\n",
            "Epoch 19/100\n",
            "400/400 [==============================] - 2s 6ms/step - loss: 0.0257 - accuracy: 0.8235 - val_loss: 0.0278 - val_accuracy: 0.8412\n",
            "Epoch 20/100\n",
            "400/400 [==============================] - 2s 6ms/step - loss: 0.0255 - accuracy: 0.8265 - val_loss: 0.0279 - val_accuracy: 0.8426\n",
            "Epoch 21/100\n",
            "400/400 [==============================] - 3s 8ms/step - loss: 0.0247 - accuracy: 0.8197 - val_loss: 0.0281 - val_accuracy: 0.8253\n",
            "Epoch 22/100\n",
            "400/400 [==============================] - 3s 7ms/step - loss: 0.0245 - accuracy: 0.8197 - val_loss: 0.0285 - val_accuracy: 0.8168\n",
            "Epoch 23/100\n",
            "400/400 [==============================] - 2s 6ms/step - loss: 0.0243 - accuracy: 0.8158 - val_loss: 0.0281 - val_accuracy: 0.8131\n",
            "Epoch 24/100\n",
            "400/400 [==============================] - 2s 6ms/step - loss: 0.0244 - accuracy: 0.8152 - val_loss: 0.0288 - val_accuracy: 0.8182\n",
            "Epoch 25/100\n",
            "400/400 [==============================] - 2s 6ms/step - loss: 0.0231 - accuracy: 0.8169 - val_loss: 0.0271 - val_accuracy: 0.7985\n",
            "Epoch 26/100\n",
            "400/400 [==============================] - 3s 7ms/step - loss: 0.0234 - accuracy: 0.8238 - val_loss: 0.0282 - val_accuracy: 0.8361\n",
            "Epoch 27/100\n",
            "400/400 [==============================] - 3s 7ms/step - loss: 0.0228 - accuracy: 0.8191 - val_loss: 0.0280 - val_accuracy: 0.8408\n",
            "Epoch 28/100\n",
            "400/400 [==============================] - 2s 6ms/step - loss: 0.0229 - accuracy: 0.8216 - val_loss: 0.0279 - val_accuracy: 0.8234\n",
            "Epoch 29/100\n",
            "400/400 [==============================] - 2s 6ms/step - loss: 0.0224 - accuracy: 0.8226 - val_loss: 0.0282 - val_accuracy: 0.8539\n",
            "Epoch 30/100\n",
            "400/400 [==============================] - 2s 6ms/step - loss: 0.0228 - accuracy: 0.8233 - val_loss: 0.0279 - val_accuracy: 0.8347\n",
            "Epoch 31/100\n",
            "400/400 [==============================] - 3s 7ms/step - loss: 0.0223 - accuracy: 0.8180 - val_loss: 0.0282 - val_accuracy: 0.8624\n",
            "Epoch 32/100\n",
            "400/400 [==============================] - 3s 8ms/step - loss: 0.0221 - accuracy: 0.8258 - val_loss: 0.0268 - val_accuracy: 0.8225\n",
            "Epoch 33/100\n",
            "400/400 [==============================] - 2s 6ms/step - loss: 0.0224 - accuracy: 0.8227 - val_loss: 0.0273 - val_accuracy: 0.8300\n",
            "Epoch 34/100\n",
            "400/400 [==============================] - 2s 6ms/step - loss: 0.0215 - accuracy: 0.8277 - val_loss: 0.0281 - val_accuracy: 0.8516\n",
            "Epoch 35/100\n",
            "400/400 [==============================] - 2s 6ms/step - loss: 0.0214 - accuracy: 0.8274 - val_loss: 0.0283 - val_accuracy: 0.8506\n",
            "Epoch 36/100\n",
            "400/400 [==============================] - 3s 7ms/step - loss: 0.0219 - accuracy: 0.8273 - val_loss: 0.0280 - val_accuracy: 0.8525\n",
            "Epoch 37/100\n",
            "400/400 [==============================] - 3s 8ms/step - loss: 0.0211 - accuracy: 0.8268 - val_loss: 0.0296 - val_accuracy: 0.8436\n",
            "Epoch 38/100\n",
            "400/400 [==============================] - 2s 6ms/step - loss: 0.0215 - accuracy: 0.8246 - val_loss: 0.0277 - val_accuracy: 0.8281\n",
            "Epoch 39/100\n",
            "400/400 [==============================] - 2s 6ms/step - loss: 0.0211 - accuracy: 0.8218 - val_loss: 0.0293 - val_accuracy: 0.8267\n",
            "Epoch 40/100\n",
            "400/400 [==============================] - 2s 6ms/step - loss: 0.0206 - accuracy: 0.8157 - val_loss: 0.0281 - val_accuracy: 0.8229\n",
            "Epoch 41/100\n",
            "400/400 [==============================] - 2s 6ms/step - loss: 0.0206 - accuracy: 0.8179 - val_loss: 0.0286 - val_accuracy: 0.8248\n",
            "Epoch 42/100\n",
            "400/400 [==============================] - 3s 8ms/step - loss: 0.0210 - accuracy: 0.8147 - val_loss: 0.0324 - val_accuracy: 0.8473\n",
            "Epoch 43/100\n",
            "400/400 [==============================] - 3s 6ms/step - loss: 0.0205 - accuracy: 0.8282 - val_loss: 0.0304 - val_accuracy: 0.8257\n",
            "Epoch 44/100\n",
            "400/400 [==============================] - 2s 6ms/step - loss: 0.0204 - accuracy: 0.8280 - val_loss: 0.0294 - val_accuracy: 0.8469\n",
            "Epoch 45/100\n",
            "400/400 [==============================] - 2s 6ms/step - loss: 0.0202 - accuracy: 0.8310 - val_loss: 0.0314 - val_accuracy: 0.8600\n",
            "Epoch 46/100\n",
            "400/400 [==============================] - 2s 6ms/step - loss: 0.0200 - accuracy: 0.8243 - val_loss: 0.0316 - val_accuracy: 0.8483\n",
            "Epoch 47/100\n",
            "400/400 [==============================] - 3s 7ms/step - loss: 0.0199 - accuracy: 0.8313 - val_loss: 0.0325 - val_accuracy: 0.8394\n",
            "Epoch 48/100\n",
            "400/400 [==============================] - 3s 7ms/step - loss: 0.0199 - accuracy: 0.8215 - val_loss: 0.0314 - val_accuracy: 0.8267\n",
            "Epoch 49/100\n",
            "400/400 [==============================] - 2s 6ms/step - loss: 0.0199 - accuracy: 0.8147 - val_loss: 0.0309 - val_accuracy: 0.8600\n",
            "Epoch 50/100\n",
            "400/400 [==============================] - 2s 6ms/step - loss: 0.0197 - accuracy: 0.8132 - val_loss: 0.0311 - val_accuracy: 0.8342\n",
            "Epoch 51/100\n",
            "400/400 [==============================] - 2s 6ms/step - loss: 0.0195 - accuracy: 0.8246 - val_loss: 0.0329 - val_accuracy: 0.8426\n",
            "Epoch 52/100\n",
            "400/400 [==============================] - 3s 7ms/step - loss: 0.0200 - accuracy: 0.8163 - val_loss: 0.0288 - val_accuracy: 0.8431\n",
            "Epoch 53/100\n",
            "400/400 [==============================] - 3s 8ms/step - loss: 0.0196 - accuracy: 0.8215 - val_loss: 0.0307 - val_accuracy: 0.8535\n",
            "Epoch 54/100\n",
            "400/400 [==============================] - 2s 6ms/step - loss: 0.0195 - accuracy: 0.8190 - val_loss: 0.0289 - val_accuracy: 0.8525\n",
            "Epoch 55/100\n",
            "400/400 [==============================] - 2s 6ms/step - loss: 0.0197 - accuracy: 0.8294 - val_loss: 0.0306 - val_accuracy: 0.8544\n",
            "Epoch 56/100\n",
            "400/400 [==============================] - 2s 6ms/step - loss: 0.0197 - accuracy: 0.8215 - val_loss: 0.0334 - val_accuracy: 0.8478\n",
            "Epoch 57/100\n",
            "400/400 [==============================] - 2s 6ms/step - loss: 0.0195 - accuracy: 0.8197 - val_loss: 0.0338 - val_accuracy: 0.8389\n",
            "Epoch 58/100\n",
            "400/400 [==============================] - 3s 9ms/step - loss: 0.0195 - accuracy: 0.8255 - val_loss: 0.0286 - val_accuracy: 0.8567\n",
            "Epoch 59/100\n",
            "400/400 [==============================] - 2s 6ms/step - loss: 0.0194 - accuracy: 0.8282 - val_loss: 0.0301 - val_accuracy: 0.8563\n",
            "Epoch 60/100\n",
            "400/400 [==============================] - 2s 6ms/step - loss: 0.0206 - accuracy: 0.8182 - val_loss: 0.0301 - val_accuracy: 0.8426\n",
            "Epoch 61/100\n",
            "400/400 [==============================] - 2s 6ms/step - loss: 0.0192 - accuracy: 0.8177 - val_loss: 0.0316 - val_accuracy: 0.8328\n",
            "Epoch 62/100\n",
            "400/400 [==============================] - 2s 6ms/step - loss: 0.0192 - accuracy: 0.8174 - val_loss: 0.0298 - val_accuracy: 0.8464\n",
            "Epoch 63/100\n",
            "400/400 [==============================] - 3s 9ms/step - loss: 0.0187 - accuracy: 0.8185 - val_loss: 0.0312 - val_accuracy: 0.8530\n",
            "Epoch 64/100\n",
            "400/400 [==============================] - 3s 6ms/step - loss: 0.0188 - accuracy: 0.8240 - val_loss: 0.0320 - val_accuracy: 0.8497\n",
            "Epoch 65/100\n",
            "400/400 [==============================] - 2s 6ms/step - loss: 0.0189 - accuracy: 0.8274 - val_loss: 0.0297 - val_accuracy: 0.8365\n",
            "Epoch 66/100\n",
            "400/400 [==============================] - 2s 6ms/step - loss: 0.0190 - accuracy: 0.8254 - val_loss: 0.0299 - val_accuracy: 0.8483\n",
            "Epoch 67/100\n",
            "400/400 [==============================] - 2s 6ms/step - loss: 0.0195 - accuracy: 0.8249 - val_loss: 0.0290 - val_accuracy: 0.8417\n",
            "Epoch 68/100\n",
            "400/400 [==============================] - 3s 8ms/step - loss: 0.0180 - accuracy: 0.8204 - val_loss: 0.0369 - val_accuracy: 0.8417\n",
            "Epoch 69/100\n",
            "400/400 [==============================] - 3s 7ms/step - loss: 0.0192 - accuracy: 0.8258 - val_loss: 0.0282 - val_accuracy: 0.8525\n",
            "Epoch 70/100\n",
            "400/400 [==============================] - 2s 6ms/step - loss: 0.0192 - accuracy: 0.8224 - val_loss: 0.0307 - val_accuracy: 0.8516\n",
            "Epoch 71/100\n",
            "400/400 [==============================] - 2s 6ms/step - loss: 0.0184 - accuracy: 0.8249 - val_loss: 0.0301 - val_accuracy: 0.8619\n",
            "Epoch 72/100\n",
            "400/400 [==============================] - 2s 6ms/step - loss: 0.0182 - accuracy: 0.8092 - val_loss: 0.0293 - val_accuracy: 0.8516\n",
            "Epoch 73/100\n",
            "400/400 [==============================] - 3s 8ms/step - loss: 0.0182 - accuracy: 0.8229 - val_loss: 0.0290 - val_accuracy: 0.8375\n",
            "Epoch 74/100\n",
            "400/400 [==============================] - 3s 7ms/step - loss: 0.0188 - accuracy: 0.8163 - val_loss: 0.0355 - val_accuracy: 0.8412\n",
            "Epoch 75/100\n",
            "400/400 [==============================] - 2s 6ms/step - loss: 0.0182 - accuracy: 0.8288 - val_loss: 0.0334 - val_accuracy: 0.8389\n",
            "Epoch 76/100\n",
            "400/400 [==============================] - 2s 6ms/step - loss: 0.0181 - accuracy: 0.8222 - val_loss: 0.0310 - val_accuracy: 0.8323\n",
            "Epoch 77/100\n",
            "400/400 [==============================] - 2s 6ms/step - loss: 0.0212 - accuracy: 0.8208 - val_loss: 0.0294 - val_accuracy: 0.8187\n",
            "Epoch 78/100\n",
            "400/400 [==============================] - 3s 6ms/step - loss: 0.0187 - accuracy: 0.8155 - val_loss: 0.0372 - val_accuracy: 0.8389\n",
            "Epoch 79/100\n",
            "400/400 [==============================] - 3s 8ms/step - loss: 0.0180 - accuracy: 0.8216 - val_loss: 0.0337 - val_accuracy: 0.8314\n",
            "Epoch 80/100\n",
            "400/400 [==============================] - 2s 6ms/step - loss: 0.0188 - accuracy: 0.8257 - val_loss: 0.0327 - val_accuracy: 0.8394\n",
            "Epoch 81/100\n",
            "400/400 [==============================] - 3s 6ms/step - loss: 0.0181 - accuracy: 0.8158 - val_loss: 0.0324 - val_accuracy: 0.8459\n",
            "Epoch 82/100\n",
            "400/400 [==============================] - 2s 6ms/step - loss: 0.0203 - accuracy: 0.8179 - val_loss: 0.0374 - val_accuracy: 0.8690\n",
            "Epoch 83/100\n",
            "400/400 [==============================] - 2s 6ms/step - loss: 0.0181 - accuracy: 0.8177 - val_loss: 0.0368 - val_accuracy: 0.8394\n",
            "Epoch 84/100\n",
            "400/400 [==============================] - 3s 9ms/step - loss: 0.0188 - accuracy: 0.8128 - val_loss: 0.0277 - val_accuracy: 0.8351\n",
            "Epoch 85/100\n",
            "400/400 [==============================] - 4s 9ms/step - loss: 0.0180 - accuracy: 0.8141 - val_loss: 0.0345 - val_accuracy: 0.8126\n",
            "Epoch 86/100\n",
            "400/400 [==============================] - 2s 6ms/step - loss: 0.0177 - accuracy: 0.8163 - val_loss: 0.0312 - val_accuracy: 0.8248\n",
            "Epoch 87/100\n",
            "400/400 [==============================] - 2s 6ms/step - loss: 0.0180 - accuracy: 0.8045 - val_loss: 0.0345 - val_accuracy: 0.8384\n",
            "Epoch 88/100\n",
            "400/400 [==============================] - 2s 6ms/step - loss: 0.0173 - accuracy: 0.8069 - val_loss: 0.0327 - val_accuracy: 0.8243\n",
            "Epoch 89/100\n",
            "400/400 [==============================] - 2s 6ms/step - loss: 0.0179 - accuracy: 0.8175 - val_loss: 0.0306 - val_accuracy: 0.8215\n",
            "Epoch 90/100\n",
            "400/400 [==============================] - 3s 8ms/step - loss: 0.0179 - accuracy: 0.8164 - val_loss: 0.0319 - val_accuracy: 0.8337\n",
            "Epoch 91/100\n",
            "400/400 [==============================] - 3s 7ms/step - loss: 0.0178 - accuracy: 0.8144 - val_loss: 0.0326 - val_accuracy: 0.8314\n",
            "Epoch 92/100\n",
            "400/400 [==============================] - 2s 6ms/step - loss: 0.0183 - accuracy: 0.8066 - val_loss: 0.0414 - val_accuracy: 0.8516\n",
            "Epoch 93/100\n",
            "400/400 [==============================] - 2s 6ms/step - loss: 0.0170 - accuracy: 0.8157 - val_loss: 0.0304 - val_accuracy: 0.8384\n",
            "Epoch 94/100\n",
            "400/400 [==============================] - 2s 6ms/step - loss: 0.0184 - accuracy: 0.8193 - val_loss: 0.0327 - val_accuracy: 0.8502\n",
            "Epoch 95/100\n",
            "400/400 [==============================] - 3s 7ms/step - loss: 0.0181 - accuracy: 0.8269 - val_loss: 0.0334 - val_accuracy: 0.8605\n",
            "Epoch 96/100\n",
            "400/400 [==============================] - 3s 8ms/step - loss: 0.0181 - accuracy: 0.8153 - val_loss: 0.0325 - val_accuracy: 0.8384\n",
            "Epoch 97/100\n",
            "400/400 [==============================] - 2s 6ms/step - loss: 0.0187 - accuracy: 0.8099 - val_loss: 0.0294 - val_accuracy: 0.8431\n",
            "Epoch 98/100\n",
            "400/400 [==============================] - 2s 6ms/step - loss: 0.0176 - accuracy: 0.8009 - val_loss: 0.0323 - val_accuracy: 0.8356\n",
            "Epoch 99/100\n",
            "400/400 [==============================] - 2s 6ms/step - loss: 0.0179 - accuracy: 0.8105 - val_loss: 0.0321 - val_accuracy: 0.8502\n",
            "Epoch 100/100\n",
            "400/400 [==============================] - 3s 7ms/step - loss: 0.0176 - accuracy: 0.8141 - val_loss: 0.0330 - val_accuracy: 0.8304\n"
          ]
        }
      ],
      "source": [
        "# Fit and train model\n",
        "fitted = model.fit(x_train, y_train, epochs=100, validation_data=(x_test, y_test), batch_size=16)"
      ]
    },
    {
      "cell_type": "code",
      "execution_count": null,
      "metadata": {
        "id": "qfWVW2vxnmsB",
        "colab": {
          "base_uri": "https://localhost:8080/",
          "height": 927
        },
        "outputId": "42ad5544-a510-45d0-d5cf-1b66de6dcc51"
      },
      "outputs": [
        {
          "output_type": "display_data",
          "data": {
            "text/plain": [
              "<Figure size 640x480 with 1 Axes>"
            ],
            "image/png": "[encoded data removed]"
          },
          "metadata": {}
        },
        {
          "output_type": "display_data",
          "data": {
            "text/plain": [
              "<Figure size 640x480 with 1 Axes>"
            ],
            "image/png": "[encoded data removed]"
          },
          "metadata": {}
        }
      ],
      "source": [
        "#plot the training and validation accuracy and loss at each epoch\n",
        "loss = fitted.history['loss']\n",
        "val_loss = fitted.history['val_loss']\n",
        "epochs = range(1, len(loss) + 1)\n",
        "plt.plot(epochs, loss, 'y', label='Training loss')\n",
        "plt.plot(epochs, val_loss, 'r', label='Validation loss')\n",
        "plt.title('Training and validation loss')\n",
        "plt.xlabel('Epochs')\n",
        "plt.ylabel('Loss')\n",
        "plt.legend()\n",
        "plt.show()\n",
        "\n",
        "\n",
        "acc = fitted.history['accuracy']\n",
        "val_acc = fitted.history['val_accuracy']\n",
        "plt.plot(epochs, acc, 'y', label='Training acc')\n",
        "plt.plot(epochs, val_acc, 'r', label='Validation acc')\n",
        "plt.title('Training and validation accuracy')\n",
        "plt.xlabel('Epochs')\n",
        "plt.ylabel('Accuracy')\n",
        "plt.legend()\n",
        "plt.ylim(0.6,1)\n",
        "plt.show()"
      ]
    },
    {
      "cell_type": "markdown",
      "metadata": {
        "id": "xrhHel6z-Ty2"
      },
      "source": [
        "# Data Analysis"
      ]
    },
    {
      "cell_type": "code",
      "execution_count": null,
      "metadata": {
        "id": "1mccN-zSSAM0"
      },
      "outputs": [],
      "source": [
        "# Create Y prediction dataset from model predictions and collecting Y true values from original dataset\n",
        "y_pred = model.predict(x_test)\n",
        "\n",
        "y_pred = np.round(y_pred)\n",
        "y_true = np.array(y_test)\n"
      ]
    },
    {
      "cell_type": "code",
      "execution_count": null,
      "metadata": {
        "id": "ukb3zo3A4lCb"
      },
      "outputs": [],
      "source": [
        "# Confusion matrix creation\n",
        "mlconf = multilabel_confusion_matrix(y_true, y_pred)\n",
        "hamloss = hamming_loss(y_true,y_pred)\n",
        "\n",
        "disp = ConfusionMatrixDisplay(confusion_matrix=mlconf[0])\n",
        "# print(mlconf)\n",
        "disp.plot()\n",
        "plt.show()\n",
        "\n",
        "label_names = ['GO:0090729', 'GO:0005179', 'GO:0016829',\n",
        "       'GO:0046872', 'GO:0008081', 'GO:0004867', 'GO:0099106', 'GO:0015459',\n",
        "       'GO:0004252', 'GO:0005246', 'GO:0004623', 'GO:0005509', 'GO:0008200',\n",
        "       'GO:0017080', 'GO:0019834', 'GO:0008270', 'GO:0030550', 'GO:0004222',\n",
        "       'GO:0052740', 'GO:0052739', 'GO:0008970', 'GO:0050025', 'GO:0050029',\n",
        "       'GO:0106329', 'GO:0008191', 'GO:0004620', 'GO:0008233', 'GO:0016504',\n",
        "       'GO:0060422', 'GO:0000166', 'GO:0106411', 'GO:0000287', 'GO:0008237',\n",
        "       'GO:0005102', 'GO:0005216', 'GO:0008201', 'GO:0008236', 'GO:0008289',\n",
        "       'GO:0019870', 'GO:0019871', 'GO:0004465', 'GO:0016491', 'GO:0042802',\n",
        "       'GO:0047498', 'GO:0048018', 'GO:0001515', 'GO:0001716', 'GO:0042803',\n",
        "       'GO:0003677', 'GO:0050660', 'GO:0003990', 'GO:0003993', 'GO:0004175',\n",
        "       'GO:0004177', 'GO:0004415', 'GO:0008239', 'GO:0004556', 'GO:0004860',\n",
        "       'GO:0004866', 'GO:0004869', 'GO:0005154', 'GO:0005184', 'GO:0005185',\n",
        "       'GO:0005507', 'GO:0005516', 'GO:0005520', 'GO:0005534', 'GO:0030395',\n",
        "       'GO:0033296', 'GO:0008061', 'GO:0008083', 'GO:0016603', 'GO:0016787',\n",
        "       'GO:0019855', 'GO:0003676', 'GO:0016853', 'GO:0017081', 'GO:0044325',\n",
        "       'GO:0030246', 'GO:0030414', 'GO:0033906', 'GO:0043262', 'GO:0048019',\n",
        "       'GO:0070320', 'GO:0080030', 'GO:0140628']\n",
        "\n",
        "\n",
        "# Classification report, returns precision, recall, F1 score for each class\n",
        "print(classification_report(y_true, y_pred,target_names=label_names, zero_division=0))"
      ]
    },
    {
      "cell_type": "code",
      "source": [
        "# Saving the model to HDF5 file\n",
        "\n",
        "\"\"\" model.save('/content/drive/MyDrive/ML Models/venomics.hdf5') \"\"\""
      ],
      "metadata": {
        "id": "Lrl4mciLov9g"
      },
      "execution_count": null,
      "outputs": []
    },
    {
      "cell_type": "markdown",
      "source": [
        "MODEL OUTPUT"
      ],
      "metadata": {
        "id": "lqioKmtgolRU"
      }
    },
    {
      "cell_type": "code",
      "execution_count": null,
      "metadata": {
        "id": "MLacRdh5nmFO"
      },
      "outputs": [],
      "source": [
        "# Encode inputted sequence\n",
        "classes = np.array(df.columns[3:])\n",
        "test_sequence = test_encode('MVSRYVPDMGDLIWVDFDPTKGSEQAGHRPAVVLSPFMYNNKTGMCLCVPCTTQSKGYPFEVVLSGQERDGVALADQVKSIAWRARGATKKGTVAPEELQLIKAKINVLIG')\n",
        "\n",
        "# Predict molecular function classes and get top 10\n",
        "proba = model.predict(test_sequence)\n",
        "sorted_categories = np.argsort(proba[0])[:-11:-1]\n",
        "\n",
        "\n",
        "# Output\n",
        "for i in range(10):\n",
        "    print(\"{}\".format(classes[sorted_categories[i]])+\" ({:.3})\".format(proba[0][sorted_categories[i]]))"
      ]
    },
    {
      "cell_type": "markdown",
      "source": [
        "# Saved Model Testing\n",
        "\n"
      ],
      "metadata": {
        "id": "bcIzpwToJnVM"
      }
    },
    {
      "cell_type": "code",
      "source": [
        "# Importing saved HDF5 file of the model\n",
        "nmodel = tf.keras.models.load_model('/content/drive/MyDrive/ML Models/venomics.hdf5')"
      ],
      "metadata": {
        "id": "CMfAtj1yJrKP"
      },
      "execution_count": null,
      "outputs": []
    },
    {
      "cell_type": "code",
      "source": [
        "# Testing to ensure saved model has same accuracy\n",
        "nmodel.evaluate(x_test, y_test)"
      ],
      "metadata": {
        "colab": {
          "base_uri": "https://localhost:8080/"
        },
        "id": "sBPeHIjoJx4b",
        "outputId": "c0616b5e-20bc-48b6-8807-d92c004d0639"
      },
      "execution_count": null,
      "outputs": [
        {
          "output_type": "stream",
          "name": "stdout",
          "text": [
            "67/67 [==============================] - 2s 3ms/step - loss: 0.0044 - accuracy: 0.9671\n"
          ]
        },
        {
          "output_type": "execute_result",
          "data": {
            "text/plain": [
              "[0.004387811291962862, 0.9671207070350647]"
            ]
          },
          "metadata": {},
          "execution_count": 11
        }
      ]
    },
    {
      "cell_type": "markdown",
      "source": [
        "**MODEL OUTPUT**"
      ],
      "metadata": {
        "id": "j6iIlTGzqV-J"
      }
    },
    {
      "cell_type": "code",
      "source": [
        "# Encode inputted sequence\n",
        "classes = np.array(df.columns[3:])\n",
        "seq = 'MNFKYSILFICFGTLDRGLIPECPFNEYDILFFVYTRQQRDGIVLTEETLQNYDLFKKSTISRQVVFIDHGFLSNGNNENFIAMAKALIEKDNFLVISVDWKKGACNAFASTLDYLGYSTAVGNTRHVGKYVADFTKLLVEQYKVSMSNIRLIGHSLGAHTSGFAGKEVQELKLNKYSNIDGLDPAGPSFDSNDCPERLCETDAEYVQIIHTSNILGVYSKIGTVDFYMNYGSHQPGCGRFFSPSCSHTKAVKYLTECIKHECCLIGTPWKKYFSTPKPISQCTKDTCVCVGLNAKSYPARGSFYVPVEATAPYCHNEGIKL'\n",
        "test_sequence = test_encode(seq)\n",
        "\n",
        "# Predict molecular function classes and get top 10\n",
        "proba = nmodel.predict(test_sequence)\n",
        "sorted_categories = np.argsort(proba[0])[:-11:-1]\n",
        "\n",
        "# Output\n",
        "print()\n",
        "print(\"Amino Acid Sequence: \"+seq[0:20]+\"...\")\n",
        "print()\n",
        "print(\"Predicted Molecular Functions: \")\n",
        "for i in range(10):\n",
        "    print(\"{}\".format(classes[sorted_categories[i]])+\" ({:.3})\".format(proba[0][sorted_categories[i]]))"
      ],
      "metadata": {
        "colab": {
          "base_uri": "https://localhost:8080/"
        },
        "id": "we_jXk0ZJx1k",
        "outputId": "d6ccf3c2-3a5e-482b-e94a-67cb4ebee273"
      },
      "execution_count": null,
      "outputs": [
        {
          "output_type": "stream",
          "name": "stdout",
          "text": [
            "1/1 [==============================] - 0s 24ms/step\n",
            "\n",
            "Amino Acid Sequence: MNFKYSILFICFGTLDRGLI...\n",
            "\n",
            "Predicted Molecular Functions: \n",
            "GO:0052740 (0.985)\n",
            "GO:0008970 (0.985)\n",
            "GO:0052739 (0.985)\n",
            "GO:0090729 (0.118)\n",
            "GO:0004623 (0.0722)\n",
            "GO:0005509 (0.00246)\n",
            "GO:0004415 (0.00145)\n",
            "GO:0008201 (0.000674)\n",
            "GO:0042802 (0.000143)\n",
            "GO:0003677 (0.000128)\n"
          ]
        }
      ]
    },
    {
      "cell_type": "markdown",
      "source": [
        "**Extra Data Analysis and Testing**"
      ],
      "metadata": {
        "id": "ObNqMMpSqjZ8"
      }
    },
    {
      "cell_type": "code",
      "source": [
        "y_pred = nmodel.predict(x_test)\n",
        "\n",
        "y_pred = np.round(y_pred)\n",
        "y_true = np.array(y_test)\n"
      ],
      "metadata": {
        "id": "61NPKb8xJxvE",
        "colab": {
          "base_uri": "https://localhost:8080/"
        },
        "outputId": "876c2fab-37dd-4d85-e9cb-2e415ba8e6e4"
      },
      "execution_count": null,
      "outputs": [
        {
          "output_type": "stream",
          "name": "stdout",
          "text": [
            "67/67 [==============================] - 3s 2ms/step\n"
          ]
        }
      ]
    },
    {
      "cell_type": "code",
      "source": [
        "mlconf = multilabel_confusion_matrix(y_true, y_pred)\n",
        "hamloss = hamming_loss(y_true,y_pred)\n",
        "\n",
        "disp = ConfusionMatrixDisplay(confusion_matrix=mlconf[0])\n",
        "print(mlconf)\n",
        "disp.plot()\n",
        "plt.show()\n",
        "\n",
        "\n",
        "label_names = ['GO:0090729', 'GO:0005179', 'GO:0016829',\n",
        "       'GO:0046872', 'GO:0008081', 'GO:0004867', 'GO:0099106', 'GO:0015459',\n",
        "       'GO:0004252', 'GO:0005246', 'GO:0004623', 'GO:0005509', 'GO:0008200',\n",
        "       'GO:0017080', 'GO:0019834', 'GO:0008270', 'GO:0030550', 'GO:0004222',\n",
        "       'GO:0052740', 'GO:0052739', 'GO:0008970', 'GO:0050025', 'GO:0050029',\n",
        "       'GO:0106329', 'GO:0008191', 'GO:0004620', 'GO:0008233', 'GO:0016504',\n",
        "       'GO:0060422', 'GO:0000166', 'GO:0106411', 'GO:0000287', 'GO:0008237',\n",
        "       'GO:0005102', 'GO:0005216', 'GO:0008201', 'GO:0008236', 'GO:0008289',\n",
        "       'GO:0019870', 'GO:0019871', 'GO:0004465', 'GO:0016491', 'GO:0042802',\n",
        "       'GO:0047498', 'GO:0048018', 'GO:0001515', 'GO:0001716', 'GO:0042803',\n",
        "       'GO:0003677', 'GO:0050660', 'GO:0003990', 'GO:0003993', 'GO:0004175',\n",
        "       'GO:0004177', 'GO:0004415', 'GO:0008239', 'GO:0004556', 'GO:0004860',\n",
        "       'GO:0004866', 'GO:0004869', 'GO:0005154', 'GO:0005184', 'GO:0005185',\n",
        "       'GO:0005507', 'GO:0005516', 'GO:0005520', 'GO:0005534', 'GO:0030395',\n",
        "       'GO:0033296', 'GO:0008061', 'GO:0008083', 'GO:0016603', 'GO:0016787',\n",
        "       'GO:0019855', 'GO:0003676', 'GO:0016853', 'GO:0017081', 'GO:0044325',\n",
        "       'GO:0030246', 'GO:0030414', 'GO:0033906', 'GO:0043262', 'GO:0048019',\n",
        "       'GO:0070320', 'GO:0080030', 'GO:0140628']\n",
        "\n",
        "print(classification_report(y_true, y_pred,target_names=label_names, zero_division=0))"
      ],
      "metadata": {
        "id": "t5x9L0vwJxsZ",
        "colab": {
          "base_uri": "https://localhost:8080/",
          "height": 1000
        },
        "outputId": "39af21a3-0c58-4e02-8d01-d301737c9b21"
      },
      "execution_count": null,
      "outputs": [
        {
          "output_type": "stream",
          "name": "stdout",
          "text": [
            "[[[ 435   17]\n",
            "  [  16 1661]]\n",
            "\n",
            " [[2095    1]\n",
            "  [   2   31]]\n",
            "\n",
            " [[2080    0]\n",
            "  [   0   49]]\n",
            "\n",
            " [[1960    1]\n",
            "  [   8  160]]\n",
            "\n",
            " [[2080    1]\n",
            "  [   0   48]]\n",
            "\n",
            " [[2054    0]\n",
            "  [   1   74]]\n",
            "\n",
            " [[1928    3]\n",
            "  [   9  189]]\n",
            "\n",
            " [[1949    2]\n",
            "  [  13  165]]\n",
            "\n",
            " [[2084    0]\n",
            "  [   2   43]]\n",
            "\n",
            " [[2052    1]\n",
            "  [   8   68]]\n",
            "\n",
            " [[1997    1]\n",
            "  [   1  130]]\n",
            "\n",
            " [[2008    0]\n",
            "  [   2  119]]\n",
            "\n",
            " [[1904    3]\n",
            "  [   4  218]]\n",
            "\n",
            " [[2039    1]\n",
            "  [   4   85]]\n",
            "\n",
            " [[2127    0]\n",
            "  [   2    0]]\n",
            "\n",
            " [[2121    0]\n",
            "  [   3    5]]\n",
            "\n",
            " [[1985    3]\n",
            "  [   3  138]]\n",
            "\n",
            " [[2087    0]\n",
            "  [   2   40]]\n",
            "\n",
            " [[2121    0]\n",
            "  [   0    8]]\n",
            "\n",
            " [[2121    0]\n",
            "  [   0    8]]\n",
            "\n",
            " [[2121    0]\n",
            "  [   0    8]]\n",
            "\n",
            " [[2129    0]\n",
            "  [   0    0]]\n",
            "\n",
            " [[2129    0]\n",
            "  [   0    0]]\n",
            "\n",
            " [[2121    0]\n",
            "  [   8    0]]\n",
            "\n",
            " [[2112    0]\n",
            "  [   3   14]]\n",
            "\n",
            " [[2129    0]\n",
            "  [   0    0]]\n",
            "\n",
            " [[2127    0]\n",
            "  [   2    0]]\n",
            "\n",
            " [[2117    0]\n",
            "  [   7    5]]\n",
            "\n",
            " [[2128    0]\n",
            "  [   1    0]]\n",
            "\n",
            " [[2126    0]\n",
            "  [   3    0]]\n",
            "\n",
            " [[2127    0]\n",
            "  [   2    0]]\n",
            "\n",
            " [[2129    0]\n",
            "  [   0    0]]\n",
            "\n",
            " [[2116    0]\n",
            "  [   2   11]]\n",
            "\n",
            " [[2127    0]\n",
            "  [   2    0]]\n",
            "\n",
            " [[2129    0]\n",
            "  [   0    0]]\n",
            "\n",
            " [[2129    0]\n",
            "  [   0    0]]\n",
            "\n",
            " [[2116    0]\n",
            "  [   2   11]]\n",
            "\n",
            " [[2121    0]\n",
            "  [   4    4]]\n",
            "\n",
            " [[2115    0]\n",
            "  [   3   11]]\n",
            "\n",
            " [[1988    0]\n",
            "  [   2  139]]\n",
            "\n",
            " [[2129    0]\n",
            "  [   0    0]]\n",
            "\n",
            " [[2126    0]\n",
            "  [   3    0]]\n",
            "\n",
            " [[2124    0]\n",
            "  [   5    0]]\n",
            "\n",
            " [[2129    0]\n",
            "  [   0    0]]\n",
            "\n",
            " [[2129    0]\n",
            "  [   0    0]]\n",
            "\n",
            " [[2129    0]\n",
            "  [   0    0]]\n",
            "\n",
            " [[2114    4]\n",
            "  [   5    6]]\n",
            "\n",
            " [[2126    0]\n",
            "  [   3    0]]\n",
            "\n",
            " [[2118    0]\n",
            "  [   1   10]]\n",
            "\n",
            " [[2127    0]\n",
            "  [   2    0]]\n",
            "\n",
            " [[2127    0]\n",
            "  [   2    0]]\n",
            "\n",
            " [[2128    0]\n",
            "  [   1    0]]\n",
            "\n",
            " [[2129    0]\n",
            "  [   0    0]]\n",
            "\n",
            " [[2128    0]\n",
            "  [   1    0]]\n",
            "\n",
            " [[2122    0]\n",
            "  [   2    5]]\n",
            "\n",
            " [[2128    0]\n",
            "  [   1    0]]\n",
            "\n",
            " [[2129    0]\n",
            "  [   0    0]]\n",
            "\n",
            " [[2126    0]\n",
            "  [   3    0]]\n",
            "\n",
            " [[2129    0]\n",
            "  [   0    0]]\n",
            "\n",
            " [[2124    0]\n",
            "  [   0    5]]\n",
            "\n",
            " [[2129    0]\n",
            "  [   0    0]]\n",
            "\n",
            " [[2128    0]\n",
            "  [   1    0]]\n",
            "\n",
            " [[2129    0]\n",
            "  [   0    0]]\n",
            "\n",
            " [[2125    0]\n",
            "  [   0    4]]\n",
            "\n",
            " [[2125    0]\n",
            "  [   4    0]]\n",
            "\n",
            " [[2129    0]\n",
            "  [   0    0]]\n",
            "\n",
            " [[2129    0]\n",
            "  [   0    0]]\n",
            "\n",
            " [[2129    0]\n",
            "  [   0    0]]\n",
            "\n",
            " [[2129    0]\n",
            "  [   0    0]]\n",
            "\n",
            " [[2127    0]\n",
            "  [   2    0]]\n",
            "\n",
            " [[2118    0]\n",
            "  [   2    9]]\n",
            "\n",
            " [[2129    0]\n",
            "  [   0    0]]\n",
            "\n",
            " [[2128    0]\n",
            "  [   1    0]]\n",
            "\n",
            " [[2109    1]\n",
            "  [   2   17]]\n",
            "\n",
            " [[2126    0]\n",
            "  [   1    2]]\n",
            "\n",
            " [[2129    0]\n",
            "  [   0    0]]\n",
            "\n",
            " [[2122    0]\n",
            "  [   1    6]]\n",
            "\n",
            " [[2129    0]\n",
            "  [   0    0]]\n",
            "\n",
            " [[2113    0]\n",
            "  [   2   14]]\n",
            "\n",
            " [[2119    0]\n",
            "  [   1    9]]\n",
            "\n",
            " [[2128    0]\n",
            "  [   1    0]]\n",
            "\n",
            " [[2127    0]\n",
            "  [   0    2]]\n",
            "\n",
            " [[2129    0]\n",
            "  [   0    0]]\n",
            "\n",
            " [[2129    0]\n",
            "  [   0    0]]\n",
            "\n",
            " [[2129    0]\n",
            "  [   0    0]]\n",
            "\n",
            " [[2129    0]\n",
            "  [   0    0]]]\n"
          ]
        },
        {
          "output_type": "display_data",
          "data": {
            "text/plain": [
              "<Figure size 432x288 with 2 Axes>"
            ],
            "image/png": "[encoded data removed]"
          },
          "metadata": {
            "needs_background": "light"
          }
        },
        {
          "output_type": "stream",
          "name": "stdout",
          "text": [
            "              precision    recall  f1-score   support\n",
            "\n",
            "  GO:0090729       0.99      0.99      0.99      1677\n",
            "  GO:0005179       0.97      0.94      0.95        33\n",
            "  GO:0016829       1.00      1.00      1.00        49\n",
            "  GO:0046872       0.99      0.95      0.97       168\n",
            "  GO:0008081       0.98      1.00      0.99        48\n",
            "  GO:0004867       1.00      0.99      0.99        75\n",
            "  GO:0099106       0.98      0.95      0.97       198\n",
            "  GO:0015459       0.99      0.93      0.96       178\n",
            "  GO:0004252       1.00      0.96      0.98        45\n",
            "  GO:0005246       0.99      0.89      0.94        76\n",
            "  GO:0004623       0.99      0.99      0.99       131\n",
            "  GO:0005509       1.00      0.98      0.99       121\n",
            "  GO:0008200       0.99      0.98      0.98       222\n",
            "  GO:0017080       0.99      0.96      0.97        89\n",
            "  GO:0019834       0.00      0.00      0.00         2\n",
            "  GO:0008270       1.00      0.62      0.77         8\n",
            "  GO:0030550       0.98      0.98      0.98       141\n",
            "  GO:0004222       1.00      0.95      0.98        42\n",
            "  GO:0052740       1.00      1.00      1.00         8\n",
            "  GO:0052739       1.00      1.00      1.00         8\n",
            "  GO:0008970       1.00      1.00      1.00         8\n",
            "  GO:0050025       0.00      0.00      0.00         0\n",
            "  GO:0050029       0.00      0.00      0.00         0\n",
            "  GO:0106329       0.00      0.00      0.00         8\n",
            "  GO:0008191       1.00      0.82      0.90        17\n",
            "  GO:0004620       0.00      0.00      0.00         0\n",
            "  GO:0008233       0.00      0.00      0.00         2\n",
            "  GO:0016504       1.00      0.42      0.59        12\n",
            "  GO:0060422       0.00      0.00      0.00         1\n",
            "  GO:0000166       0.00      0.00      0.00         3\n",
            "  GO:0106411       0.00      0.00      0.00         2\n",
            "  GO:0000287       0.00      0.00      0.00         0\n",
            "  GO:0008237       1.00      0.85      0.92        13\n",
            "  GO:0005102       0.00      0.00      0.00         2\n",
            "  GO:0005216       0.00      0.00      0.00         0\n",
            "  GO:0008201       0.00      0.00      0.00         0\n",
            "  GO:0008236       1.00      0.85      0.92        13\n",
            "  GO:0008289       1.00      0.50      0.67         8\n",
            "  GO:0019870       1.00      0.79      0.88        14\n",
            "  GO:0019871       1.00      0.99      0.99       141\n",
            "  GO:0004465       0.00      0.00      0.00         0\n",
            "  GO:0016491       0.00      0.00      0.00         3\n",
            "  GO:0042802       0.00      0.00      0.00         5\n",
            "  GO:0047498       0.00      0.00      0.00         0\n",
            "  GO:0048018       0.00      0.00      0.00         0\n",
            "  GO:0001515       0.00      0.00      0.00         0\n",
            "  GO:0001716       0.60      0.55      0.57        11\n",
            "  GO:0042803       0.00      0.00      0.00         3\n",
            "  GO:0003677       1.00      0.91      0.95        11\n",
            "  GO:0050660       0.00      0.00      0.00         2\n",
            "  GO:0003990       0.00      0.00      0.00         2\n",
            "  GO:0003993       0.00      0.00      0.00         1\n",
            "  GO:0004175       0.00      0.00      0.00         0\n",
            "  GO:0004177       0.00      0.00      0.00         1\n",
            "  GO:0004415       1.00      0.71      0.83         7\n",
            "  GO:0008239       0.00      0.00      0.00         1\n",
            "  GO:0004556       0.00      0.00      0.00         0\n",
            "  GO:0004860       0.00      0.00      0.00         3\n",
            "  GO:0004866       0.00      0.00      0.00         0\n",
            "  GO:0004869       1.00      1.00      1.00         5\n",
            "  GO:0005154       0.00      0.00      0.00         0\n",
            "  GO:0005184       0.00      0.00      0.00         1\n",
            "  GO:0005185       0.00      0.00      0.00         0\n",
            "  GO:0005507       1.00      1.00      1.00         4\n",
            "  GO:0005516       0.00      0.00      0.00         4\n",
            "  GO:0005520       0.00      0.00      0.00         0\n",
            "  GO:0005534       0.00      0.00      0.00         0\n",
            "  GO:0030395       0.00      0.00      0.00         0\n",
            "  GO:0033296       0.00      0.00      0.00         0\n",
            "  GO:0008061       0.00      0.00      0.00         2\n",
            "  GO:0008083       1.00      0.82      0.90        11\n",
            "  GO:0016603       0.00      0.00      0.00         0\n",
            "  GO:0016787       0.00      0.00      0.00         1\n",
            "  GO:0019855       0.94      0.89      0.92        19\n",
            "  GO:0003676       1.00      0.67      0.80         3\n",
            "  GO:0016853       0.00      0.00      0.00         0\n",
            "  GO:0017081       1.00      0.86      0.92         7\n",
            "  GO:0044325       0.00      0.00      0.00         0\n",
            "  GO:0030246       1.00      0.88      0.93        16\n",
            "  GO:0030414       1.00      0.90      0.95        10\n",
            "  GO:0033906       0.00      0.00      0.00         1\n",
            "  GO:0043262       1.00      1.00      1.00         2\n",
            "  GO:0048019       0.00      0.00      0.00         0\n",
            "  GO:0070320       0.00      0.00      0.00         0\n",
            "  GO:0080030       0.00      0.00      0.00         0\n",
            "  GO:0140628       0.00      0.00      0.00         0\n",
            "\n",
            "   micro avg       0.99      0.95      0.97      3699\n",
            "   macro avg       0.45      0.40      0.42      3699\n",
            "weighted avg       0.98      0.95      0.96      3699\n",
            " samples avg       0.85      0.83      0.84      3699\n",
            "\n"
          ]
        }
      ]
    },
    {
      "cell_type": "code",
      "source": [],
      "metadata": {
        "id": "eOJmOPW6Adez"
      },
      "execution_count": null,
      "outputs": []
    },
    {
      "cell_type": "code",
      "source": [],
      "metadata": {
        "id": "OnpOgr-uJxmc"
      },
      "execution_count": null,
      "outputs": []
    },
    {
      "cell_type": "code",
      "source": [],
      "metadata": {
        "id": "WaKZsgTAJxgc"
      },
      "execution_count": null,
      "outputs": []
    },
    {
      "cell_type": "code",
      "source": [],
      "metadata": {
        "id": "AzWy0KGmJxdF"
      },
      "execution_count": null,
      "outputs": []
    }
  ],
  "metadata": {
    "accelerator": "GPU",
    "colab": {
      "provenance": []
    },
    "gpuClass": "standard",
    "kernelspec": {
      "display_name": "Python 3",
      "name": "python3"
    },
    "language_info": {
      "name": "python"
    }
  },
  "nbformat": 4,
  "nbformat_minor": 0
}